{
 "cells": [
  {
   "cell_type": "code",
   "execution_count": 1,
   "metadata": {},
   "outputs": [],
   "source": [
    "import boto3\n",
    "import pandas as pd\n",
    "import numpy as np\n",
    "import matplotlib.pyplot as plt\n",
    "from io import BytesIO\n",
    "from mlxtend.preprocessing import TransactionEncoder\n",
    "import random\n",
    "#from mlxtend.frequent_patterns import apriori\n",
    "from apyori import apriori \n",
    "from itertools import combinations, groupby\n",
    "from collections import Counter\n",
    "from Server_Assign_apriori import server_association_apriori\n",
    "from format_rules_apriori import  format_rules_apriori\n",
    "from assign_test_apriori import assign_servers_output\n",
    "from apriori_rules import association_rules"
   ]
  },
  {
   "cell_type": "code",
   "execution_count": 2,
   "metadata": {},
   "outputs": [
    {
     "name": "stderr",
     "output_type": "stream",
     "text": [
      "/home/ubuntu/anaconda3/lib/python3.6/site-packages/IPython/core/interactiveshell.py:2785: DtypeWarning: Columns (8) have mixed types. Specify dtype option on import or set low_memory=False.\n",
      "  interactivity=interactivity, compiler=compiler, result=result)\n"
     ]
    }
   ],
   "source": [
    "#load data\n",
    "# based off https://www.datatheque.com/posts/association-analysis/\n",
    "\n",
    "client = boto3.client('s3')\n",
    "obj = client.get_object(Bucket='manifolddata', Key='week1.csv')\n",
    "df = pd.read_csv(BytesIO(obj['Body'].read()))\n"
   ]
  },
  {
   "cell_type": "code",
   "execution_count": 3,
   "metadata": {},
   "outputs": [],
   "source": [
    "df=df.iloc[:,[0,1,3,4,5,6,7,8]]\n",
    "df.columns=['Date', 'Duration', 'Src_IP', 'Src_pt', 'Dst_IP', 'Dst_pt','Packets', 'Bytes']\n",
    "#add an date column that is rounded to nearest hour, so we can use this as a timestep to see how frequently IP pairs occur in each timestep\n",
    "df['Date']=pd.to_datetime(df['Date'], format=\"%Y-%m-%d %H:%M:%S.%f\", errors = 'coerce')\n",
    "df['date_hr']=pd.Series(df['Date']).dt.round(\"H\")"
   ]
  },
  {
   "cell_type": "code",
   "execution_count": 4,
   "metadata": {},
   "outputs": [],
   "source": [
    "def convert_si_to_number(x):\n",
    "    total_stars = 0\n",
    "    if 'k' in x:\n",
    "        if len(x) > 1:\n",
    "            total_stars = float(x.replace('k', '')) * 1000 # convert k to a thousand\n",
    "    elif 'M' in x:\n",
    "        if len(x) > 1:\n",
    "            total_stars = float(x.replace('M', '')) * 1000000 # convert M to a million\n",
    "    elif 'B' in x:\n",
    "        total_stars = float(x.replace('B', '')) * 1000000000 # convert B to a Billion\n",
    "    else:\n",
    "        total_stars = int(x) # Less than 1000\n",
    "    return int(total_stars)"
   ]
  },
  {
   "cell_type": "code",
   "execution_count": 5,
   "metadata": {},
   "outputs": [],
   "source": [
    "df.Bytes=df.Bytes.astype('str')\n",
    "test_list=df.Bytes\n",
    "\n",
    "[i for i, s in enumerate(test_list) if 'M' in s]#show where the M errors are happening\n",
    "\n",
    "test_list= [convert_si_to_number(x) for x in test_list]\n",
    "df.Bytes=test_list #bring it back into the dataframe\n"
   ]
  },
  {
   "cell_type": "code",
   "execution_count": 6,
   "metadata": {},
   "outputs": [],
   "source": [
    "#create a pair column, which is a touple of the src and dst IP, sorted. \n",
    "#It does not matter which call came first, we simply want to know which pair occurs most frequently.\n",
    "\n",
    "df['pairs']=list(zip(df.Src_IP, df.Dst_IP))\n",
    "df['pairs']=df['pairs'].apply(sorted)\n",
    "df['pairs2']=tuple(df['pairs'])"
   ]
  },
  {
   "cell_type": "code",
   "execution_count": 7,
   "metadata": {},
   "outputs": [],
   "source": [
    "df['norm_latency']=df['Duration']/df['Packets']"
   ]
  },
  {
   "cell_type": "code",
   "execution_count": 8,
   "metadata": {},
   "outputs": [],
   "source": [
    "df_train=df[df['Date']<'2017-08-08'] #first 6 days\n",
    "df_test=df[df['Date']>'2017-08-08'] #last day"
   ]
  },
  {
   "cell_type": "code",
   "execution_count": 9,
   "metadata": {},
   "outputs": [],
   "source": [
    "percentile=0.9\n",
    "confidence=0 #allow all rules to pass\n",
    "apps_server=20"
   ]
  },
  {
   "cell_type": "code",
   "execution_count": 10,
   "metadata": {},
   "outputs": [
    {
     "name": "stderr",
     "output_type": "stream",
     "text": [
      "/home/ubuntu/notebook/Manifold_Final/assign_test_apriori.py:23: SettingWithCopyWarning: \n",
      "A value is trying to be set on a copy of a slice from a DataFrame.\n",
      "Try using .loc[row_indexer,col_indexer] = value instead\n",
      "\n",
      "See the caveats in the documentation: http://pandas.pydata.org/pandas-docs/stable/indexing.html#indexing-view-versus-copy\n",
      "  df_train['hour']=None\n",
      "/home/ubuntu/notebook/Manifold_Final/assign_test_apriori.py:24: SettingWithCopyWarning: \n",
      "A value is trying to be set on a copy of a slice from a DataFrame.\n",
      "Try using .loc[row_indexer,col_indexer] = value instead\n",
      "\n",
      "See the caveats in the documentation: http://pandas.pydata.org/pandas-docs/stable/indexing.html#indexing-view-versus-copy\n",
      "  df_train['hour']=pd.DatetimeIndex(df_train['Date']).hour\n"
     ]
    },
    {
     "name": "stdout",
     "output_type": "stream",
     "text": [
      "Starting order_item:               12710576\n",
      "Items with support >= 3.807852610298699e-05:            8493\n",
      "Remaining order_item:              12710576\n",
      "Remaining orders with 2+ items:     5229106\n",
      "Remaining order_item:              12710576\n"
     ]
    },
    {
     "name": "stderr",
     "output_type": "stream",
     "text": [
      "/home/ubuntu/notebook/Manifold_Final/iter_apriori.py:27: FutureWarning: Method .as_matrix will be removed in a future version. Use .values instead.\n",
      "  order_item = order_item.reset_index().as_matrix()\n"
     ]
    },
    {
     "name": "stdout",
     "output_type": "stream",
     "text": [
      "Item pairs:                           75258\n",
      "Item pairs with support >= 3.807852610298699e-05:      24490\n",
      "\n"
     ]
    }
   ],
   "source": [
    "server_df, server_assignments, total_latency, total_latency_model, avg_latency, avg_latency_model =assign_servers_output(df_train=df_train, df_test=df_test, percentile=percentile, confidence=confidence, apps_server=apps_server)"
   ]
  },
  {
   "cell_type": "code",
   "execution_count": 11,
   "metadata": {},
   "outputs": [],
   "source": [
    "server_df['hour']=None\n",
    "server_df['hour']=pd.DatetimeIndex(server_df['Date']).hour"
   ]
  },
  {
   "cell_type": "code",
   "execution_count": 12,
   "metadata": {},
   "outputs": [],
   "source": [
    "#xport server assignments for later use\n",
    "server_assignments.to_csv('server_assignments_90percentile_Apriori_testday.csv')"
   ]
  },
  {
   "cell_type": "code",
   "execution_count": 12,
   "metadata": {},
   "outputs": [],
   "source": [
    "#sum up by an hourly timestep, get the average transaction time (s)\n",
    "\n",
    "server_df_hour=server_df.groupby('hour')[['Duration', 'duration_pred']].mean().reset_index()"
   ]
  },
  {
   "cell_type": "code",
   "execution_count": 13,
   "metadata": {},
   "outputs": [
    {
     "data": {
      "text/html": [
       "<div>\n",
       "<style scoped>\n",
       "    .dataframe tbody tr th:only-of-type {\n",
       "        vertical-align: middle;\n",
       "    }\n",
       "\n",
       "    .dataframe tbody tr th {\n",
       "        vertical-align: top;\n",
       "    }\n",
       "\n",
       "    .dataframe thead th {\n",
       "        text-align: right;\n",
       "    }\n",
       "</style>\n",
       "<table border=\"1\" class=\"dataframe\">\n",
       "  <thead>\n",
       "    <tr style=\"text-align: right;\">\n",
       "      <th></th>\n",
       "      <th>Date</th>\n",
       "      <th>Duration</th>\n",
       "      <th>Src_IP</th>\n",
       "      <th>Src_pt</th>\n",
       "      <th>Dst_IP</th>\n",
       "      <th>Dst_pt</th>\n",
       "      <th>Packets</th>\n",
       "      <th>Bytes</th>\n",
       "      <th>date_hr</th>\n",
       "      <th>pairs</th>\n",
       "      <th>pairs2</th>\n",
       "      <th>norm_latency</th>\n",
       "      <th>Src_Server</th>\n",
       "      <th>Dst_Server</th>\n",
       "      <th>duration_pred</th>\n",
       "      <th>hour</th>\n",
       "    </tr>\n",
       "  </thead>\n",
       "  <tbody>\n",
       "    <tr>\n",
       "      <th>0</th>\n",
       "      <td>2017-08-08 00:00:00.760</td>\n",
       "      <td>0.144</td>\n",
       "      <td>10692_129</td>\n",
       "      <td>443</td>\n",
       "      <td>192.168.210.54</td>\n",
       "      <td>52204.0</td>\n",
       "      <td>3</td>\n",
       "      <td>936</td>\n",
       "      <td>2017-08-08</td>\n",
       "      <td>[10692_129, 192.168.210.54]</td>\n",
       "      <td>(10692_129, 192.168.210.54)</td>\n",
       "      <td>0.0480</td>\n",
       "      <td>NaN</td>\n",
       "      <td>4.0</td>\n",
       "      <td>0.144</td>\n",
       "      <td>0</td>\n",
       "    </tr>\n",
       "    <tr>\n",
       "      <th>1</th>\n",
       "      <td>2017-08-08 00:00:00.746</td>\n",
       "      <td>0.158</td>\n",
       "      <td>192.168.210.54</td>\n",
       "      <td>52204</td>\n",
       "      <td>10692_129</td>\n",
       "      <td>443.0</td>\n",
       "      <td>2</td>\n",
       "      <td>334</td>\n",
       "      <td>2017-08-08</td>\n",
       "      <td>[10692_129, 192.168.210.54]</td>\n",
       "      <td>(10692_129, 192.168.210.54)</td>\n",
       "      <td>0.0790</td>\n",
       "      <td>4.0</td>\n",
       "      <td>NaN</td>\n",
       "      <td>0.158</td>\n",
       "      <td>0</td>\n",
       "    </tr>\n",
       "    <tr>\n",
       "      <th>2</th>\n",
       "      <td>2017-08-08 00:00:02.205</td>\n",
       "      <td>0.000</td>\n",
       "      <td>11948_124</td>\n",
       "      <td>80</td>\n",
       "      <td>192.168.220.51</td>\n",
       "      <td>40971.0</td>\n",
       "      <td>1</td>\n",
       "      <td>279</td>\n",
       "      <td>2017-08-08</td>\n",
       "      <td>[11948_124, 192.168.220.51]</td>\n",
       "      <td>(11948_124, 192.168.220.51)</td>\n",
       "      <td>0.0000</td>\n",
       "      <td>NaN</td>\n",
       "      <td>0.0</td>\n",
       "      <td>0.000</td>\n",
       "      <td>0</td>\n",
       "    </tr>\n",
       "    <tr>\n",
       "      <th>3</th>\n",
       "      <td>2017-08-08 00:00:02.126</td>\n",
       "      <td>0.023</td>\n",
       "      <td>DNS</td>\n",
       "      <td>53</td>\n",
       "      <td>192.168.220.51</td>\n",
       "      <td>54811.0</td>\n",
       "      <td>2</td>\n",
       "      <td>371</td>\n",
       "      <td>2017-08-08</td>\n",
       "      <td>[192.168.220.51, DNS]</td>\n",
       "      <td>(192.168.220.51, DNS)</td>\n",
       "      <td>0.0115</td>\n",
       "      <td>0.0</td>\n",
       "      <td>0.0</td>\n",
       "      <td>0.000</td>\n",
       "      <td>0</td>\n",
       "    </tr>\n",
       "    <tr>\n",
       "      <th>4</th>\n",
       "      <td>2017-08-08 00:00:02.098</td>\n",
       "      <td>0.031</td>\n",
       "      <td>192.168.220.51</td>\n",
       "      <td>54811</td>\n",
       "      <td>DNS</td>\n",
       "      <td>53.0</td>\n",
       "      <td>2</td>\n",
       "      <td>156</td>\n",
       "      <td>2017-08-08</td>\n",
       "      <td>[192.168.220.51, DNS]</td>\n",
       "      <td>(192.168.220.51, DNS)</td>\n",
       "      <td>0.0155</td>\n",
       "      <td>0.0</td>\n",
       "      <td>0.0</td>\n",
       "      <td>0.000</td>\n",
       "      <td>0</td>\n",
       "    </tr>\n",
       "  </tbody>\n",
       "</table>\n",
       "</div>"
      ],
      "text/plain": [
       "                     Date  Duration          Src_IP  Src_pt          Dst_IP  \\\n",
       "0 2017-08-08 00:00:00.760     0.144       10692_129     443  192.168.210.54   \n",
       "1 2017-08-08 00:00:00.746     0.158  192.168.210.54   52204       10692_129   \n",
       "2 2017-08-08 00:00:02.205     0.000       11948_124      80  192.168.220.51   \n",
       "3 2017-08-08 00:00:02.126     0.023             DNS      53  192.168.220.51   \n",
       "4 2017-08-08 00:00:02.098     0.031  192.168.220.51   54811             DNS   \n",
       "\n",
       "    Dst_pt  Packets  Bytes    date_hr                        pairs  \\\n",
       "0  52204.0        3    936 2017-08-08  [10692_129, 192.168.210.54]   \n",
       "1    443.0        2    334 2017-08-08  [10692_129, 192.168.210.54]   \n",
       "2  40971.0        1    279 2017-08-08  [11948_124, 192.168.220.51]   \n",
       "3  54811.0        2    371 2017-08-08        [192.168.220.51, DNS]   \n",
       "4     53.0        2    156 2017-08-08        [192.168.220.51, DNS]   \n",
       "\n",
       "                        pairs2  norm_latency  Src_Server  Dst_Server  \\\n",
       "0  (10692_129, 192.168.210.54)        0.0480         NaN         4.0   \n",
       "1  (10692_129, 192.168.210.54)        0.0790         4.0         NaN   \n",
       "2  (11948_124, 192.168.220.51)        0.0000         NaN         0.0   \n",
       "3        (192.168.220.51, DNS)        0.0115         0.0         0.0   \n",
       "4        (192.168.220.51, DNS)        0.0155         0.0         0.0   \n",
       "\n",
       "   duration_pred  hour  \n",
       "0          0.144     0  \n",
       "1          0.158     0  \n",
       "2          0.000     0  \n",
       "3          0.000     0  \n",
       "4          0.000     0  "
      ]
     },
     "execution_count": 13,
     "metadata": {},
     "output_type": "execute_result"
    }
   ],
   "source": [
    "server_df.head()"
   ]
  },
  {
   "cell_type": "markdown",
   "metadata": {},
   "source": [
    "### How many rules did we create for our test day?"
   ]
  },
  {
   "cell_type": "code",
   "execution_count": 14,
   "metadata": {},
   "outputs": [
    {
     "data": {
      "text/plain": [
       "226"
      ]
     },
     "execution_count": 14,
     "metadata": {},
     "output_type": "execute_result"
    }
   ],
   "source": [
    "len(server_assignments)"
   ]
  },
  {
   "cell_type": "markdown",
   "metadata": {},
   "source": [
    "This means the next day we assigned 226 rules that were in effect the whole 24 hours"
   ]
  },
  {
   "cell_type": "markdown",
   "metadata": {},
   "source": [
    "This is what percentage of IPs assigned:"
   ]
  },
  {
   "cell_type": "code",
   "execution_count": 15,
   "metadata": {},
   "outputs": [
    {
     "data": {
      "text/plain": [
       "0.023091856544395627"
      ]
     },
     "execution_count": 15,
     "metadata": {},
     "output_type": "execute_result"
    }
   ],
   "source": [
    "unique_IPs=server_df['Src_IP'].nunique()+server_df['Dst_IP'].nunique()\n",
    "len(server_assignments)/unique_IPs"
   ]
  },
  {
   "cell_type": "code",
   "execution_count": 16,
   "metadata": {},
   "outputs": [
    {
     "data": {
      "text/plain": [
       "0.2642127380851742"
      ]
     },
     "execution_count": 16,
     "metadata": {},
     "output_type": "execute_result"
    }
   ],
   "source": [
    "#What was the latency reduction? %\n",
    "(total_latency- total_latency_model)/  total_latency"
   ]
  },
  {
   "cell_type": "code",
   "execution_count": 17,
   "metadata": {},
   "outputs": [
    {
     "name": "stderr",
     "output_type": "stream",
     "text": [
      "/home/ubuntu/anaconda3/lib/python3.6/site-packages/matplotlib/font_manager.py:1238: UserWarning: findfont: Font family ['normal'] not found. Falling back to DejaVu Sans.\n",
      "  (prop.get_family(), self.defaultFamily[fontext]))\n"
     ]
    },
    {
     "data": {
      "image/png": "[encoded data removed]",
      "text/plain": [
       "<Figure size 504x360 with 1 Axes>"
      ]
     },
     "metadata": {
      "needs_background": "light"
     },
     "output_type": "display_data"
    }
   ],
   "source": [
    "#plot average transaction time\n",
    "from datetime import datetime\n",
    "import matplotlib.pyplot as plt\n",
    "from matplotlib.dates import DateFormatter\n",
    "import matplotlib as matplotlib\n",
    "\n",
    "font = {'family' : 'normal',\n",
    "        'weight' : 'bold',\n",
    "        'size'   : 16}\n",
    "matplotlib.rc('font', **font)\n",
    "fig, ax = plt.subplots(1,1, figsize=(7,5))\n",
    "ax.plot(server_df_hour['hour'], server_df_hour['Duration'], color='steelblue', linewidth=2.0, label='Status Quo')\n",
    "ax.plot(server_df_hour['hour'], server_df_hour['duration_pred'], color='firebrick', linewidth=4.0, label='Association Rules')\n",
    "\n",
    "\n",
    "## Rotate date labels automatically\n",
    "fig.autofmt_xdate()\n",
    "plt.ylabel('Latency (s)')\n",
    "plt.xlabel('hour of day')\n",
    "plt.title('Average Transaction Latency')\n",
    "plt.legend(loc='upper left')\n",
    "fig.savefig('Figures/Average_transaction_latency_Apriori.png')"
   ]
  },
  {
   "cell_type": "markdown",
   "metadata": {},
   "source": [
    "## How much money did we save in this example test day?\n",
    "\n",
    "the reason why I provided you with bandwidth pricing is the following:\n",
    "If applications are co-located you pay nothing\n",
    "so you can caulcute the price by using the bytes transmitted and recieved (as per the dataset)\n",
    "and just put 0 for any machine that is co-located\n",
    "\n",
    "Bandwidth is charged on a pay-as-you-go basis, and it is calculated on the actual bandwidth usage (GB) in your last month multiplied by AWS bandwidth charges ($0.12 / GB). For example, if your server consumed 100GB bandwidth in the month, you will be charged for $12 (100GB x $0.12).https://support.cloudways.com/aws-bandwidth-charges/\n",
    "\n",
    "BAndwith measured in bytes/second. so if we sum up the bytes over a period of time, we can know the min bandwith we would need to order and pay for."
   ]
  },
  {
   "cell_type": "markdown",
   "metadata": {},
   "source": [
    "Assume $0.12/GB of data transferred.\n",
    "If latency = 0, then we will set Bytes=0 b/c we did not have to really transfer them and no need to allocate extra bandwith..\n",
    "To calculate original cost = Sum up the Bytes, multiply by this $rate\n",
    "\n",
    "To calculate the model cost, we will set any byte where servers match =0, then sum up bytes and multipy by $rate.\n"
   ]
  },
  {
   "cell_type": "code",
   "execution_count": 18,
   "metadata": {},
   "outputs": [],
   "source": [
    "cost_rate=0.12\n",
    "server_df['Bytes_model']=server_df['Bytes']\n",
    "server_df.loc[server_df['Src_Server']==server_df['Dst_Server'], 'Bytes_model']=0\n",
    "orig_GB=(server_df['Bytes'].sum()/10E9)#convert from byte to GB, this is over the test period in 'hours' below\n",
    "model_GB=(server_df['Bytes_model'].sum()/10E9)\n",
    "time=(server_df['Date'].iloc[-1]-server_df['Date'][0]).total_seconds() #total time in seconds\n",
    "hours=time//3600 #total time in hours"
   ]
  },
  {
   "cell_type": "code",
   "execution_count": 19,
   "metadata": {},
   "outputs": [
    {
     "data": {
      "text/plain": [
       "4.7446498244"
      ]
     },
     "execution_count": 19,
     "metadata": {},
     "output_type": "execute_result"
    }
   ],
   "source": [
    "orig_GB"
   ]
  },
  {
   "cell_type": "code",
   "execution_count": 20,
   "metadata": {},
   "outputs": [
    {
     "data": {
      "text/plain": [
       "0.20628912279999997"
      ]
     },
     "execution_count": 20,
     "metadata": {},
     "output_type": "execute_result"
    }
   ],
   "source": [
    "(orig_GB)/hours #Mb/s"
   ]
  },
  {
   "cell_type": "code",
   "execution_count": 21,
   "metadata": {},
   "outputs": [
    {
     "data": {
      "text/plain": [
       "0.30632015713864647"
      ]
     },
     "execution_count": 21,
     "metadata": {},
     "output_type": "execute_result"
    }
   ],
   "source": [
    "(model_GB*10E3)/time"
   ]
  },
  {
   "cell_type": "code",
   "execution_count": 22,
   "metadata": {},
   "outputs": [],
   "source": [
    "orig_bandrate=orig_GB/time\n",
    "model_bandrate=model_GB/time\n",
    "\n",
    "orig_cost=((orig_GB)/hours) *24*365*cost_rate # $/yr\n",
    "model_cost=((model_GB)/hours) *24*365*cost_rate"
   ]
  },
  {
   "cell_type": "code",
   "execution_count": 23,
   "metadata": {},
   "outputs": [
    {
     "data": {
      "text/plain": [
       "216.85112588735996"
      ]
     },
     "execution_count": 23,
     "metadata": {},
     "output_type": "execute_result"
    }
   ],
   "source": [
    "orig_cost"
   ]
  },
  {
   "cell_type": "code",
   "execution_count": 24,
   "metadata": {},
   "outputs": [
    {
     "data": {
      "text/plain": [
       "120.95624932910609"
      ]
     },
     "execution_count": 24,
     "metadata": {},
     "output_type": "execute_result"
    }
   ],
   "source": [
    "model_cost"
   ]
  },
  {
   "cell_type": "code",
   "execution_count": 25,
   "metadata": {},
   "outputs": [
    {
     "data": {
      "text/plain": [
       "0.4422152578910981"
      ]
     },
     "execution_count": 25,
     "metadata": {},
     "output_type": "execute_result"
    }
   ],
   "source": [
    "(orig_cost-model_cost)/orig_cost"
   ]
  },
  {
   "cell_type": "markdown",
   "metadata": {},
   "source": [
    "## How does this model compare to random assignment?\n"
   ]
  },
  {
   "cell_type": "code",
   "execution_count": 26,
   "metadata": {},
   "outputs": [],
   "source": [
    "#Need to assign random servers to the IP addressed, however b/c we did not assign a server to all the IP addresses in our model run, we will only assign servers to the same proportion of the data.\n",
    "\n",
    "#How many servers did we assign in the Src_server column?\n",
    "num_src_assign=server_df['Src_Server'].count()\n",
    "num_dst_assign=server_df['Dst_Server'].count()\n"
   ]
  },
  {
   "cell_type": "code",
   "execution_count": 27,
   "metadata": {},
   "outputs": [],
   "source": [
    "xx_src=np.random.choice(len(df_test), num_src_assign) #which rows are randomly assigned src servers\n",
    "xx_dst=np.random.choice(len(df_test), num_dst_assign) #which rows are randomly assigned dst servers\n",
    "num_servers=server_assignments['serverid'].nunique()\n",
    "server_df['rnd_src_server']=None\n",
    "server_df['rnd_dst_server']=None"
   ]
  },
  {
   "cell_type": "code",
   "execution_count": 28,
   "metadata": {},
   "outputs": [],
   "source": [
    "rnd_src_servers=[]\n",
    "for x in range(len(xx_src)):\n",
    "  rnd_src_servers.append(random.randint(0,num_servers))\n",
    "\n",
    "rnd_dst_servers=[]\n",
    "for x in range(len(xx_dst)):\n",
    "  rnd_dst_servers.append(random.randint(0,num_servers)) #create random numbers for dst serve"
   ]
  },
  {
   "cell_type": "code",
   "execution_count": 29,
   "metadata": {},
   "outputs": [
    {
     "name": "stderr",
     "output_type": "stream",
     "text": [
      "/home/ubuntu/anaconda3/lib/python3.6/site-packages/ipykernel/__main__.py:1: SettingWithCopyWarning: \n",
      "A value is trying to be set on a copy of a slice from a DataFrame\n",
      "\n",
      "See the caveats in the documentation: http://pandas.pydata.org/pandas-docs/stable/indexing.html#indexing-view-versus-copy\n",
      "  if __name__ == '__main__':\n",
      "/home/ubuntu/anaconda3/lib/python3.6/site-packages/ipykernel/__main__.py:2: SettingWithCopyWarning: \n",
      "A value is trying to be set on a copy of a slice from a DataFrame\n",
      "\n",
      "See the caveats in the documentation: http://pandas.pydata.org/pandas-docs/stable/indexing.html#indexing-view-versus-copy\n",
      "  from ipykernel import kernelapp as app\n"
     ]
    }
   ],
   "source": [
    "server_df['rnd_src_server'][xx_src]=rnd_src_servers\n",
    "server_df['rnd_dst_server'][xx_dst]=rnd_dst_servers"
   ]
  },
  {
   "cell_type": "code",
   "execution_count": 30,
   "metadata": {},
   "outputs": [
    {
     "data": {
      "text/plain": [
       "0.016224905828577423"
      ]
     },
     "execution_count": 30,
     "metadata": {},
     "output_type": "execute_result"
    }
   ],
   "source": [
    "len(server_df[server_df.rnd_src_server==server_df.rnd_dst_server])/len(server_df) #we get 1% matches"
   ]
  },
  {
   "cell_type": "code",
   "execution_count": 31,
   "metadata": {},
   "outputs": [
    {
     "name": "stderr",
     "output_type": "stream",
     "text": [
      "/home/ubuntu/anaconda3/lib/python3.6/site-packages/ipykernel/__main__.py:2: SettingWithCopyWarning: \n",
      "A value is trying to be set on a copy of a slice from a DataFrame\n",
      "\n",
      "See the caveats in the documentation: http://pandas.pydata.org/pandas-docs/stable/indexing.html#indexing-view-versus-copy\n",
      "  from ipykernel import kernelapp as app\n"
     ]
    }
   ],
   "source": [
    "server_df['duration_rnd']=server_df['Duration']\n",
    "server_df['duration_rnd'][server_df['rnd_src_server']==server_df['rnd_dst_server']]=0\n"
   ]
  },
  {
   "cell_type": "code",
   "execution_count": 32,
   "metadata": {},
   "outputs": [],
   "source": [
    "random_reduction=(server_df['Duration'].sum()-server_df['duration_rnd'].sum())/ server_df['Duration'].sum() #new updated latency with the random assignment"
   ]
  },
  {
   "cell_type": "code",
   "execution_count": 33,
   "metadata": {},
   "outputs": [],
   "source": [
    "model_reduction=(server_df['Duration'].sum()-server_df['duration_pred'].sum())/ server_df['Duration'].sum() "
   ]
  },
  {
   "cell_type": "code",
   "execution_count": 34,
   "metadata": {},
   "outputs": [],
   "source": [
    "latency_matrix=pd.DataFrame([random_reduction, model_reduction], ['Random Assignment', 'Association Rules'])"
   ]
  },
  {
   "cell_type": "code",
   "execution_count": 35,
   "metadata": {},
   "outputs": [
    {
     "name": "stderr",
     "output_type": "stream",
     "text": [
      "/home/ubuntu/anaconda3/lib/python3.6/site-packages/matplotlib/font_manager.py:1238: UserWarning: findfont: Font family ['normal'] not found. Falling back to DejaVu Sans.\n",
      "  (prop.get_family(), self.defaultFamily[fontext]))\n"
     ]
    },
    {
     "data": {
      "image/png": "[encoded data removed]",
      "text/plain": [
       "<Figure size 504x360 with 1 Axes>"
      ]
     },
     "metadata": {},
     "output_type": "display_data"
    }
   ],
   "source": [
    "import seaborn as sns\n",
    "sns.set(style=\"white\", context=\"talk\")\n",
    "rs = np.random.RandomState(8)\n",
    "matplotlib.rc('font', **font)\n",
    "# Set up the matplotlib figure\n",
    "fig, (ax1) = plt.subplots(1, 1, figsize=(7, 5), sharex=True)\n",
    "\n",
    "sns.barplot(x=latency_matrix.index, y=latency_matrix[0]*100, palette=\"rocket\", ax=ax1)\n",
    "ax1.axhline(0, color=\"k\", clip_on=False)\n",
    "ax1.set_ylabel(\"Latency Improvement (%)\")\n",
    "fig.savefig('Figures/Overall_Latency_Improvement_apriori_test_bar.png')"
   ]
  },
  {
   "cell_type": "markdown",
   "metadata": {},
   "source": [
    "Average transaction latency reduction:"
   ]
  },
  {
   "cell_type": "code",
   "execution_count": 36,
   "metadata": {},
   "outputs": [
    {
     "data": {
      "text/plain": [
       "0.07306354222197572"
      ]
     },
     "execution_count": 36,
     "metadata": {},
     "output_type": "execute_result"
    }
   ],
   "source": [
    "avg_latency-avg_latency_model"
   ]
  },
  {
   "cell_type": "code",
   "execution_count": 37,
   "metadata": {},
   "outputs": [
    {
     "data": {
      "text/plain": [
       "0.2642127380851149"
      ]
     },
     "execution_count": 37,
     "metadata": {},
     "output_type": "execute_result"
    }
   ],
   "source": [
    "(avg_latency-avg_latency_model)/avg_latency"
   ]
  },
  {
   "cell_type": "markdown",
   "metadata": {},
   "source": [
    "## What if we want to optimize our selection, can we modify the min threshold to accomplish our latency reduction goals?"
   ]
  },
  {
   "cell_type": "code",
   "execution_count": 38,
   "metadata": {},
   "outputs": [],
   "source": [
    "percentiles=[0.25, 0.5, 0.75, 0.9]\n",
    "confidences=np.linspace(0,.8,4,endpoint=False)\n",
    "apps_server=20"
   ]
  },
  {
   "cell_type": "code",
   "execution_count": 39,
   "metadata": {},
   "outputs": [
    {
     "data": {
      "text/plain": [
       "[0.25, 0.5, 0.75, 0.9]"
      ]
     },
     "execution_count": 39,
     "metadata": {},
     "output_type": "execute_result"
    }
   ],
   "source": [
    "percentiles"
   ]
  },
  {
   "cell_type": "code",
   "execution_count": 40,
   "metadata": {},
   "outputs": [],
   "source": [
    "pairs_count=(df_train.groupby('pairs2').agg({'Date':'count', 'norm_latency': 'mean', 'Duration': 'sum', 'Packets':'sum'}).reset_index())\n",
    "pairs_count.columns=['pairs','frequency', 'avg_norm_latency', 'total_duration', 'total_packets']\n",
    "pairs_count['norm_latency']=(pairs_count['total_duration']/pairs_count['total_packets'].sum())*100 #sum of all duration time divided by sum of all packets transfered for that pair"
   ]
  },
  {
   "cell_type": "code",
   "execution_count": 41,
   "metadata": {},
   "outputs": [
    {
     "name": "stderr",
     "output_type": "stream",
     "text": [
      "/home/ubuntu/notebook/Manifold_Final/assign_test_apriori.py:23: SettingWithCopyWarning: \n",
      "A value is trying to be set on a copy of a slice from a DataFrame.\n",
      "Try using .loc[row_indexer,col_indexer] = value instead\n",
      "\n",
      "See the caveats in the documentation: http://pandas.pydata.org/pandas-docs/stable/indexing.html#indexing-view-versus-copy\n",
      "  df_train['hour']=None\n",
      "/home/ubuntu/notebook/Manifold_Final/assign_test_apriori.py:24: SettingWithCopyWarning: \n",
      "A value is trying to be set on a copy of a slice from a DataFrame.\n",
      "Try using .loc[row_indexer,col_indexer] = value instead\n",
      "\n",
      "See the caveats in the documentation: http://pandas.pydata.org/pandas-docs/stable/indexing.html#indexing-view-versus-copy\n",
      "  df_train['hour']=pd.DatetimeIndex(df_train['Date']).hour\n"
     ]
    },
    {
     "name": "stdout",
     "output_type": "stream",
     "text": [
      "Starting order_item:               12710576\n",
      "Items with support >= 2.045540658424921e-06:            8493\n",
      "Remaining order_item:              12710576\n",
      "Remaining orders with 2+ items:     5229106\n",
      "Remaining order_item:              12710576\n"
     ]
    },
    {
     "name": "stderr",
     "output_type": "stream",
     "text": [
      "/home/ubuntu/notebook/Manifold_Final/iter_apriori.py:27: FutureWarning: Method .as_matrix will be removed in a future version. Use .values instead.\n",
      "  order_item = order_item.reset_index().as_matrix()\n"
     ]
    },
    {
     "name": "stdout",
     "output_type": "stream",
     "text": [
      "Item pairs:                           75258\n",
      "Item pairs with support >= 2.045540658424921e-06:      75258\n",
      "\n",
      "13.0\n",
      "Starting order_item:               12710576\n",
      "Items with support >= 2.045540658424921e-06:            8493\n",
      "Remaining order_item:              12710576\n",
      "Remaining orders with 2+ items:     5229106\n",
      "Remaining order_item:              12710576\n",
      "Item pairs:                           75258\n",
      "Item pairs with support >= 2.045540658424921e-06:      75258\n",
      "\n",
      "13.0\n",
      "Starting order_item:               12710576\n",
      "Items with support >= 2.045540658424921e-06:            8493\n",
      "Remaining order_item:              12710576\n",
      "Remaining orders with 2+ items:     5229106\n",
      "Remaining order_item:              12710576\n",
      "Item pairs:                           75258\n",
      "Item pairs with support >= 2.045540658424921e-06:      75258\n",
      "\n",
      "13.0\n",
      "Starting order_item:               12710576\n",
      "Items with support >= 2.045540658424921e-06:            8493\n",
      "Remaining order_item:              12710576\n",
      "Remaining orders with 2+ items:     5229106\n",
      "Remaining order_item:              12710576\n",
      "Item pairs:                           75258\n",
      "Item pairs with support >= 2.045540658424921e-06:      75258\n",
      "\n",
      "13.0\n",
      "Starting order_item:               12710576\n",
      "Items with support >= 4.7204784425190485e-06:            8493\n",
      "Remaining order_item:              12710576\n",
      "Remaining orders with 2+ items:     5229106\n",
      "Remaining order_item:              12710576\n",
      "Item pairs:                           75258\n",
      "Item pairs with support >= 4.7204784425190485e-06:      75258\n",
      "\n",
      "30.0\n",
      "Starting order_item:               12710576\n",
      "Items with support >= 4.7204784425190485e-06:            8493\n",
      "Remaining order_item:              12710576\n",
      "Remaining orders with 2+ items:     5229106\n",
      "Remaining order_item:              12710576\n",
      "Item pairs:                           75258\n",
      "Item pairs with support >= 4.7204784425190485e-06:      75258\n",
      "\n",
      "30.0\n",
      "Starting order_item:               12710576\n",
      "Items with support >= 4.7204784425190485e-06:            8493\n",
      "Remaining order_item:              12710576\n",
      "Remaining orders with 2+ items:     5229106\n",
      "Remaining order_item:              12710576\n",
      "Item pairs:                           75258\n",
      "Item pairs with support >= 4.7204784425190485e-06:      75258\n",
      "\n",
      "30.0\n",
      "Starting order_item:               12710576\n",
      "Items with support >= 4.7204784425190485e-06:            8493\n",
      "Remaining order_item:              12710576\n",
      "Remaining orders with 2+ items:     5229106\n",
      "Remaining order_item:              12710576\n",
      "Item pairs:                           75258\n",
      "Item pairs with support >= 4.7204784425190485e-06:      75258\n",
      "\n",
      "30.0\n",
      "Starting order_item:               12710576\n",
      "Items with support >= 1.3846736764722544e-05:            8493\n",
      "Remaining order_item:              12710576\n",
      "Remaining orders with 2+ items:     5229106\n",
      "Remaining order_item:              12710576\n",
      "Item pairs:                           75258\n",
      "Item pairs with support >= 1.3846736764722544e-05:      75258\n",
      "\n",
      "88.0\n",
      "Starting order_item:               12710576\n",
      "Items with support >= 1.3846736764722544e-05:            8493\n",
      "Remaining order_item:              12710576\n",
      "Remaining orders with 2+ items:     5229106\n",
      "Remaining order_item:              12710576\n",
      "Item pairs:                           75258\n",
      "Item pairs with support >= 1.3846736764722544e-05:      75258\n",
      "\n",
      "88.0\n",
      "Starting order_item:               12710576\n",
      "Items with support >= 1.3846736764722544e-05:            8493\n",
      "Remaining order_item:              12710576\n",
      "Remaining orders with 2+ items:     5229106\n",
      "Remaining order_item:              12710576\n",
      "Item pairs:                           75258\n",
      "Item pairs with support >= 1.3846736764722544e-05:      75258\n",
      "\n",
      "88.0\n",
      "Starting order_item:               12710576\n",
      "Items with support >= 1.3846736764722544e-05:            8493\n",
      "Remaining order_item:              12710576\n",
      "Remaining orders with 2+ items:     5229106\n",
      "Remaining order_item:              12710576\n",
      "Item pairs:                           75258\n",
      "Item pairs with support >= 1.3846736764722544e-05:      75258\n",
      "\n",
      "88.0\n",
      "Starting order_item:               12710576\n",
      "Items with support >= 3.807852610298699e-05:            8493\n",
      "Remaining order_item:              12710576\n",
      "Remaining orders with 2+ items:     5229106\n",
      "Remaining order_item:              12710576\n",
      "Item pairs:                           75258\n",
      "Item pairs with support >= 3.807852610298699e-05:      24490\n",
      "\n",
      "242.0\n",
      "Starting order_item:               12710576\n",
      "Items with support >= 3.807852610298699e-05:            8493\n",
      "Remaining order_item:              12710576\n",
      "Remaining orders with 2+ items:     5229106\n",
      "Remaining order_item:              12710576\n",
      "Item pairs:                           75258\n",
      "Item pairs with support >= 3.807852610298699e-05:      24490\n",
      "\n",
      "242.0\n",
      "Starting order_item:               12710576\n",
      "Items with support >= 3.807852610298699e-05:            8493\n",
      "Remaining order_item:              12710576\n",
      "Remaining orders with 2+ items:     5229106\n",
      "Remaining order_item:              12710576\n",
      "Item pairs:                           75258\n",
      "Item pairs with support >= 3.807852610298699e-05:      24490\n",
      "\n",
      "242.0\n",
      "Starting order_item:               12710576\n",
      "Items with support >= 3.807852610298699e-05:            8493\n",
      "Remaining order_item:              12710576\n",
      "Remaining orders with 2+ items:     5229106\n",
      "Remaining order_item:              12710576\n",
      "Item pairs:                           75258\n",
      "Item pairs with support >= 3.807852610298699e-05:      24490\n",
      "\n",
      "242.0\n"
     ]
    }
   ],
   "source": [
    "len_apps_assigned=[]\n",
    "total_latency_model_list=[]\n",
    "avg_latency_list=[]\n",
    "avg_latency_model_list=[]\n",
    "latency_reduction_list=[]\n",
    "percentile_list=[]\n",
    "confidence_list=[]\n",
    "\n",
    "groups=[]\n",
    "for i in percentiles:\n",
    "    for j in confidences:\n",
    "        per_n=(pairs_count['frequency'].quantile(i))\n",
    "        server_df, server_assignments, total_latency, total_latency_model, avg_latency, avg_latency_model =assign_servers_output(df_train=df_train, df_test=df_test, percentile=i, confidence=j, apps_server=apps_server)\n",
    "        len_apps_assigned.append(len(server_assignments))\n",
    "        total_latency_model_list.append(total_latency_model)\n",
    "        avg_latency_model_list.append(avg_latency_model)\n",
    "        latency_red=((total_latency-total_latency_model)/total_latency)\n",
    "        latency_reduction_list.append(latency_red)\n",
    "        percentile_list.append(i)\n",
    "        confidence_list.append(j)\n",
    "        print(per_n)\n"
   ]
  },
  {
   "cell_type": "code",
   "execution_count": 43,
   "metadata": {},
   "outputs": [],
   "source": [
    "optimize_df=pd.DataFrame({'percentile':percentile_list, 'confidence': confidence_list,'num_apps_assigned':len_apps_assigned,'model_latency':total_latency_model_list, 'latency_reduction':latency_reduction_list})"
   ]
  },
  {
   "cell_type": "code",
   "execution_count": 49,
   "metadata": {},
   "outputs": [
    {
     "data": {
      "text/html": [
       "<div>\n",
       "<style scoped>\n",
       "    .dataframe tbody tr th:only-of-type {\n",
       "        vertical-align: middle;\n",
       "    }\n",
       "\n",
       "    .dataframe tbody tr th {\n",
       "        vertical-align: top;\n",
       "    }\n",
       "\n",
       "    .dataframe thead th {\n",
       "        text-align: right;\n",
       "    }\n",
       "</style>\n",
       "<table border=\"1\" class=\"dataframe\">\n",
       "  <thead>\n",
       "    <tr style=\"text-align: right;\">\n",
       "      <th></th>\n",
       "      <th>percentile</th>\n",
       "      <th>confidence</th>\n",
       "      <th>num_apps_assigned</th>\n",
       "      <th>model_latency</th>\n",
       "      <th>latency_reduction</th>\n",
       "    </tr>\n",
       "  </thead>\n",
       "  <tbody>\n",
       "    <tr>\n",
       "      <th>0</th>\n",
       "      <td>0.25</td>\n",
       "      <td>0.0</td>\n",
       "      <td>869</td>\n",
       "      <td>410870.402</td>\n",
       "      <td>1.884043e-01</td>\n",
       "    </tr>\n",
       "    <tr>\n",
       "      <th>1</th>\n",
       "      <td>0.25</td>\n",
       "      <td>0.2</td>\n",
       "      <td>4</td>\n",
       "      <td>506250.060</td>\n",
       "      <td>3.358024e-08</td>\n",
       "    </tr>\n",
       "    <tr>\n",
       "      <th>2</th>\n",
       "      <td>0.25</td>\n",
       "      <td>0.4</td>\n",
       "      <td>0</td>\n",
       "      <td>506250.077</td>\n",
       "      <td>0.000000e+00</td>\n",
       "    </tr>\n",
       "    <tr>\n",
       "      <th>3</th>\n",
       "      <td>0.25</td>\n",
       "      <td>0.6</td>\n",
       "      <td>0</td>\n",
       "      <td>506250.077</td>\n",
       "      <td>0.000000e+00</td>\n",
       "    </tr>\n",
       "    <tr>\n",
       "      <th>4</th>\n",
       "      <td>0.50</td>\n",
       "      <td>0.0</td>\n",
       "      <td>869</td>\n",
       "      <td>410870.402</td>\n",
       "      <td>1.884043e-01</td>\n",
       "    </tr>\n",
       "    <tr>\n",
       "      <th>5</th>\n",
       "      <td>0.50</td>\n",
       "      <td>0.2</td>\n",
       "      <td>4</td>\n",
       "      <td>506250.060</td>\n",
       "      <td>3.358024e-08</td>\n",
       "    </tr>\n",
       "    <tr>\n",
       "      <th>6</th>\n",
       "      <td>0.50</td>\n",
       "      <td>0.4</td>\n",
       "      <td>0</td>\n",
       "      <td>506250.077</td>\n",
       "      <td>0.000000e+00</td>\n",
       "    </tr>\n",
       "    <tr>\n",
       "      <th>7</th>\n",
       "      <td>0.50</td>\n",
       "      <td>0.6</td>\n",
       "      <td>0</td>\n",
       "      <td>506250.077</td>\n",
       "      <td>0.000000e+00</td>\n",
       "    </tr>\n",
       "    <tr>\n",
       "      <th>8</th>\n",
       "      <td>0.75</td>\n",
       "      <td>0.0</td>\n",
       "      <td>869</td>\n",
       "      <td>410870.402</td>\n",
       "      <td>1.884043e-01</td>\n",
       "    </tr>\n",
       "    <tr>\n",
       "      <th>9</th>\n",
       "      <td>0.75</td>\n",
       "      <td>0.2</td>\n",
       "      <td>4</td>\n",
       "      <td>506250.060</td>\n",
       "      <td>3.358024e-08</td>\n",
       "    </tr>\n",
       "    <tr>\n",
       "      <th>10</th>\n",
       "      <td>0.75</td>\n",
       "      <td>0.4</td>\n",
       "      <td>0</td>\n",
       "      <td>506250.077</td>\n",
       "      <td>0.000000e+00</td>\n",
       "    </tr>\n",
       "    <tr>\n",
       "      <th>11</th>\n",
       "      <td>0.75</td>\n",
       "      <td>0.6</td>\n",
       "      <td>0</td>\n",
       "      <td>506250.077</td>\n",
       "      <td>0.000000e+00</td>\n",
       "    </tr>\n",
       "    <tr>\n",
       "      <th>12</th>\n",
       "      <td>0.90</td>\n",
       "      <td>0.0</td>\n",
       "      <td>226</td>\n",
       "      <td>372492.358</td>\n",
       "      <td>2.642127e-01</td>\n",
       "    </tr>\n",
       "    <tr>\n",
       "      <th>13</th>\n",
       "      <td>0.90</td>\n",
       "      <td>0.2</td>\n",
       "      <td>2</td>\n",
       "      <td>506250.077</td>\n",
       "      <td>0.000000e+00</td>\n",
       "    </tr>\n",
       "    <tr>\n",
       "      <th>14</th>\n",
       "      <td>0.90</td>\n",
       "      <td>0.4</td>\n",
       "      <td>0</td>\n",
       "      <td>506250.077</td>\n",
       "      <td>0.000000e+00</td>\n",
       "    </tr>\n",
       "    <tr>\n",
       "      <th>15</th>\n",
       "      <td>0.90</td>\n",
       "      <td>0.6</td>\n",
       "      <td>0</td>\n",
       "      <td>506250.077</td>\n",
       "      <td>0.000000e+00</td>\n",
       "    </tr>\n",
       "  </tbody>\n",
       "</table>\n",
       "</div>"
      ],
      "text/plain": [
       "    percentile  confidence  num_apps_assigned  model_latency  \\\n",
       "0         0.25         0.0                869     410870.402   \n",
       "1         0.25         0.2                  4     506250.060   \n",
       "2         0.25         0.4                  0     506250.077   \n",
       "3         0.25         0.6                  0     506250.077   \n",
       "4         0.50         0.0                869     410870.402   \n",
       "5         0.50         0.2                  4     506250.060   \n",
       "6         0.50         0.4                  0     506250.077   \n",
       "7         0.50         0.6                  0     506250.077   \n",
       "8         0.75         0.0                869     410870.402   \n",
       "9         0.75         0.2                  4     506250.060   \n",
       "10        0.75         0.4                  0     506250.077   \n",
       "11        0.75         0.6                  0     506250.077   \n",
       "12        0.90         0.0                226     372492.358   \n",
       "13        0.90         0.2                  2     506250.077   \n",
       "14        0.90         0.4                  0     506250.077   \n",
       "15        0.90         0.6                  0     506250.077   \n",
       "\n",
       "    latency_reduction  \n",
       "0        1.884043e-01  \n",
       "1        3.358024e-08  \n",
       "2        0.000000e+00  \n",
       "3        0.000000e+00  \n",
       "4        1.884043e-01  \n",
       "5        3.358024e-08  \n",
       "6        0.000000e+00  \n",
       "7        0.000000e+00  \n",
       "8        1.884043e-01  \n",
       "9        3.358024e-08  \n",
       "10       0.000000e+00  \n",
       "11       0.000000e+00  \n",
       "12       2.642127e-01  \n",
       "13       0.000000e+00  \n",
       "14       0.000000e+00  \n",
       "15       0.000000e+00  "
      ]
     },
     "execution_count": 49,
     "metadata": {},
     "output_type": "execute_result"
    }
   ],
   "source": [
    "optimize_df"
   ]
  },
  {
   "cell_type": "markdown",
   "metadata": {},
   "source": [
    "This is showing that we do not alter how many apps are assigned until we cross the 70th percentile min support level. This means 869 apps occur more frequently than the 70th percentile, but only 226 occur more than the 85th percentile.\n",
    "\n",
    "Because it get's harder to ensure that important apps are co-located with more apps to assign to servers (because a server fills up at 20 apps), it actually improves performance (leads to greater latency reduction)"
   ]
  }
 ],
 "metadata": {
  "kernelspec": {
   "display_name": "Python [conda env:anaconda3]",
   "language": "python",
   "name": "conda-env-anaconda3-py"
  },
  "language_info": {
   "codemirror_mode": {
    "name": "ipython",
    "version": 3
   },
   "file_extension": ".py",
   "mimetype": "text/x-python",
   "name": "python",
   "nbconvert_exporter": "python",
   "pygments_lexer": "ipython3",
   "version": "3.6.4"
  }
 },
 "nbformat": 4,
 "nbformat_minor": 2
}
